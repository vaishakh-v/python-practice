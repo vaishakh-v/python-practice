{
  "nbformat": 4,
  "nbformat_minor": 0,
  "metadata": {
    "colab": {
      "name": "python practice.ipynb",
      "provenance": [],
      "collapsed_sections": [],
      "authorship_tag": "ABX9TyNZRnuONAb2HSTyfFAmWRQg",
      "include_colab_link": true
    },
    "kernelspec": {
      "name": "python3",
      "display_name": "Python 3"
    },
    "language_info": {
      "name": "python"
    }
  },
  "cells": [
    {
      "cell_type": "markdown",
      "metadata": {
        "id": "view-in-github",
        "colab_type": "text"
      },
      "source": [
        "<a href=\"https://colab.research.google.com/github/vaishakh-v/python-practice/blob/main/python_practice.ipynb\" target=\"_parent\"><img src=\"https://colab.research.google.com/assets/colab-badge.svg\" alt=\"Open In Colab\"/></a>"
      ]
    },
    {
      "cell_type": "code",
      "execution_count": null,
      "metadata": {
        "id": "424CSjA4maFl"
      },
      "outputs": [],
      "source": [
        "#put zero on last of list\n",
        "\n",
        "\n",
        "n=int(input(\"enter number of packets\"))\n",
        "lis=[]\n",
        "j=0\n",
        "for x in range(n):\n",
        "  i=input(\"enter packet numbers\")\n",
        "  lis.append(i)\n",
        "lis.sort(reverse=True)\n",
        "print(lis)"
      ]
    },
    {
      "cell_type": "code",
      "source": [
        "#days coding\n",
        "\n",
        "\n",
        "days=[\"sun\",\"mon\",\"tue\",\"wed\",\"thr\",\"fri\",\"sat\"]\n",
        "#input\n",
        "day=input(\"Enter month start day\")\n",
        "nod=int(input(\"Number of days\"))\n",
        "\n",
        "n=0\n",
        "for str(day) in days:\n",
        " n=n+1\n",
        "if n=1\n",
        "\n",
        "nofs=nod/7\n",
        "nos=nod%7+er\n",
        "\n",
        "print(\"number of sundays in the given days:\",nos)\n",
        "   \n",
        "  \n"
      ],
      "metadata": {
        "id": "5mnwEUKLxFdo"
      },
      "execution_count": null,
      "outputs": []
    },
    {
      "cell_type": "code",
      "source": [
        "#prime number or not\n",
        "\n",
        "num=int(input(\"Enter number\"))\n",
        "\n",
        "for x in range(2,int(num/2)):\n",
        "  if  (num%x)==0:\n",
        "  \n",
        "    y=\"composit\"\n",
        "    break\n",
        "  else :\n",
        "    y=\"prime\"\n",
        "#o/p\n",
        "if y==\"prime\": print(num,\"is prime\")\n",
        "else: print(num,\"is composite\")\n",
        "\n"
      ],
      "metadata": {
        "colab": {
          "base_uri": "https://localhost:8080/"
        },
        "id": "HbRtfGVK35xh",
        "outputId": "ee2a8863-a9ae-4e58-8c25-4cafff245804"
      },
      "execution_count": 31,
      "outputs": [
        {
          "output_type": "stream",
          "name": "stdout",
          "text": [
            "Enter number15\n",
            "15 is composite\n"
          ]
        }
      ]
    },
    {
      "cell_type": "markdown",
      "source": [
        "air port security risk ratin\n",
        "sorting"
      ],
      "metadata": {
        "id": "-iDYu8C7BeG3"
      }
    },
    {
      "cell_type": "code",
      "source": [
        "num=int(input(\"Enter total number of items\"))\n",
        "lis=[]\n",
        "for x in range(num):\n",
        "  lis.append(int(input(\"Enter elements severity\")))\n",
        "lis.sort()\n",
        "print(\"sorted list\",lis)"
      ],
      "metadata": {
        "colab": {
          "base_uri": "https://localhost:8080/"
        },
        "id": "g6jpoquzA7dW",
        "outputId": "34838db8-2616-4d28-ac36-321fa5affcd9"
      },
      "execution_count": 34,
      "outputs": [
        {
          "output_type": "stream",
          "name": "stdout",
          "text": [
            "Enter total number of items5\n",
            "Enter elements severity2\n",
            "Enter elements severity0\n",
            "Enter elements severity1\n",
            "Enter elements severity1\n",
            "Enter elements severity0\n",
            "sorted list [0, 0, 1, 1, 2]\n"
          ]
        }
      ]
    },
    {
      "cell_type": "code",
      "source": [
        ""
      ],
      "metadata": {
        "id": "EwzVaofvNuMS"
      },
      "execution_count": null,
      "outputs": []
    },
    {
      "cell_type": "code",
      "source": [
        "# Clone the entire repo.\n",
        "!git clone -l -s git://github.com/vaishakh-v/python-practice cloned-repo\n",
        "%cd cloned-repo\n",
        "!ls"
      ],
      "metadata": {
        "colab": {
          "base_uri": "https://localhost:8080/"
        },
        "id": "3o0P5mwgNvBc",
        "outputId": "6d2ac4d0-f822-4fa8-eea2-d69788bc1d94"
      },
      "execution_count": 38,
      "outputs": [
        {
          "output_type": "stream",
          "name": "stdout",
          "text": [
            "Cloning into 'cloned-repo'...\n",
            "warning: --local is ignored\n",
            "fatal: unable to connect to github.com:\n",
            "github.com[0: 140.82.112.3]: errno=Connection timed out\n",
            "\n",
            "[Errno 2] No such file or directory: 'cloned-repo'\n",
            "/content\n",
            "sample_data\n"
          ]
        }
      ]
    },
    {
      "cell_type": "code",
      "source": [
        "# Fetch a single <1MB file using the raw GitHub URL.\n",
        "!curl --remote-name \\\n",
        "     -H 'Accept: application/vnd.github.v3.raw' \\\n",
        "     --location https://api.github.com/repos/jakevdp/PythonDataScienceHandbook/contents/notebooks/data/california_cities.csv"
      ],
      "metadata": {
        "id": "LQcPV3tINvBd"
      },
      "execution_count": null,
      "outputs": []
    }
  ]
}